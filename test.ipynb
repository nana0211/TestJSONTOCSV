{
 "cells": [
  {
   "cell_type": "code",
   "execution_count": 52,
   "metadata": {},
   "outputs": [],
   "source": [
    "import re\n",
    "import json\n",
    "import pandas as pd\n",
    "import zipfile\n",
    "# Load the JSON file\n",
    "input_path = '069.json'\n",
    "\n",
    "# Function to flatten nested dictionaries, excluding RawData\n",
    "def flatten_json(y):\n",
    "    out = {}\n",
    "\n",
    "    def flatten(x, name=''):\n",
    "        if type(x) is dict:\n",
    "            for a in x:\n",
    "                if a == \"RawData\":  # Skip RawData entries\n",
    "                    continue\n",
    "                flatten(x[a], name + a + '_')\n",
    "        elif type(x) is list:\n",
    "            i = 0\n",
    "            for a in x:\n",
    "                flatten(a, name + str(i) + '_')\n",
    "                i += 1\n",
    "        else:\n",
    "            out[name[:-1]] = x\n",
    "\n",
    "    flatten(y)\n",
    "    return out\n",
    "\n",
    "# Flatten the JSON data, excluding RawData\n",
    "flat_data = flatten_json(data)"
   ]
  },
  {
   "cell_type": "code",
   "execution_count": 53,
   "metadata": {},
   "outputs": [],
   "source": [
    "def process_single_json(file_path):\n",
    "    with open(file_path, 'r') as f:\n",
    "        data = json.load(f)\n",
    "    flat_data = flatten_json(data)\n",
    "    return pd.DataFrame([flat_data])"
   ]
  },
  {
   "cell_type": "code",
   "execution_count": 54,
   "metadata": {},
   "outputs": [],
   "source": [
    "def process_zip_file(file_path):\n",
    "    with zipfile.ZipFile(file_path, 'r') as zip_ref:\n",
    "        flat_data = process_single_json(zip_ref.namelist()[0])\n",
    "    flat_data = flatten_json(data)\n",
    "    return pd.DataFrame([flat_data])"
   ]
  },
  {
   "cell_type": "code",
   "execution_count": 55,
   "metadata": {},
   "outputs": [],
   "source": [
    "def process_input(input_path):\n",
    "    if input_path.endswith('.zip'):\n",
    "        print('this is a zip file')\n",
    "        return process_zip_file(input_path)\n",
    "    elif input_path.endswith('.json'):\n",
    "        print('this is a single json file')\n",
    "        return process_single_json(input_path)\n",
    "    else:\n",
    "        raise ValueError(\"Input file must be either a .zip or .json file\")\n"
   ]
  },
  {
   "cell_type": "code",
   "execution_count": 56,
   "metadata": {},
   "outputs": [
    {
     "name": "stdout",
     "output_type": "stream",
     "text": [
      "this is a single json file\n"
     ]
    }
   ],
   "source": [
    "# Process the input and create DataFrame\n",
    "df = process_input(input_path)"
   ]
  },
  {
   "cell_type": "code",
   "execution_count": 57,
   "metadata": {},
   "outputs": [
    {
     "name": "stdout",
     "output_type": "stream",
     "text": [
      "PATTERN_PERSPECTIVE_TAKING\n"
     ]
    }
   ],
   "source": [
    "print('pattern_perspective_taking'.upper())"
   ]
  },
  {
   "cell_type": "code",
   "execution_count": 58,
   "metadata": {},
   "outputs": [],
   "source": [
    "# Define the pattern for matching columns\n",
    "PATTERN_PATH_INTEGRATION = r\"Sessions_PathIntegration_\\d+_Trials_(\\d+)\"\n",
    "PATTERN_POINTING_TASK = r\"Sessions_Egocentric_\\d+_PointingTasks_(\\d+)\"\n",
    "PATTERN_POINTING_JUDGEMENT = r\"Sessions_Egocentric_\\d+_PointingTasks_\\d+_PointingJudgements_(\\d+)\"\n",
    "PATTERN_PERSPECTIVE_TAKING = r\"Sessions_PerspectiveTaking_\\d+_Trials_(\\d+)\""
   ]
  },
  {
   "cell_type": "code",
   "execution_count": 59,
   "metadata": {},
   "outputs": [],
   "source": [
    "csv_header = df.columns"
   ]
  },
  {
   "cell_type": "code",
   "execution_count": 60,
   "metadata": {},
   "outputs": [],
   "source": [
    "def findMaximumTrial(pattern, csv_header):\n",
    "    # Initialize variables\n",
    "    max_j = 0\n",
    "    min_j = 0\n",
    "    matching_columns = []\n",
    "\n",
    "    # Find matching columns and extract j values\n",
    "    for col in csv_header:\n",
    "        match = re.match(pattern, col)\n",
    "        if match:\n",
    "            j = int(match.group(1))\n",
    "            matching_columns.append(col)\n",
    "            max_j = max(max_j, j)\n",
    "            min_j = min(min_j, j)\n",
    "    # Print the results\n",
    "    if matching_columns:\n",
    "        print(f\"Maximum j value: {max_j}\" + \" of\" + pattern)\n",
    "        print(f\"Minimum j value: {min_j}\"+ \" of\" + pattern)\n",
    "    return max_j\n"
   ]
  },
  {
   "cell_type": "code",
   "execution_count": 61,
   "metadata": {},
   "outputs": [],
   "source": [
    "# # Initialize variables\n",
    "# max_j = 0\n",
    "# min_j = 0\n",
    "# matching_columns = []\n",
    "\n",
    "# # Find matching columns and extract j values\n",
    "# for col in csv_header:\n",
    "#     match = re.match(pattern, col)\n",
    "#     if match:\n",
    "#         j = int(match.group(1))\n",
    "#         matching_columns.append(col)\n",
    "#         max_j = max(max_j, j)\n",
    "#         min_j = min(min_j, j)\n",
    "# # Print the results\n",
    "# if matching_columns:\n",
    "#     print(f\"Maximum j value: {max_j}\")\n",
    "#     print(f\"Minimum j value: {min_j}\")\n",
    "#     print(\"Matching columns:\")\n",
    "#     for col in matching_columns:\n",
    "#         print(col)\n",
    "# else:\n",
    "#     print(\"No matching columns found.\")"
   ]
  },
  {
   "cell_type": "code",
   "execution_count": 62,
   "metadata": {},
   "outputs": [
    {
     "name": "stdout",
     "output_type": "stream",
     "text": [
      "Maximum j value: 12 ofSessions_PathIntegration_\\d+_Trials_(\\d+)\n",
      "Minimum j value: 0 ofSessions_PathIntegration_\\d+_Trials_(\\d+)\n",
      "Maximum j value: 4 ofSessions_Egocentric_\\d+_PointingTasks_\\d+_PointingJudgements_(\\d+)\n",
      "Minimum j value: 0 ofSessions_Egocentric_\\d+_PointingTasks_\\d+_PointingJudgements_(\\d+)\n",
      "Maximum j value: 5 ofSessions_Egocentric_\\d+_PointingTasks_(\\d+)\n",
      "Minimum j value: 0 ofSessions_Egocentric_\\d+_PointingTasks_(\\d+)\n",
      "Maximum j value: 12 ofSessions_PerspectiveTaking_\\d+_Trials_(\\d+)\n",
      "Minimum j value: 0 ofSessions_PerspectiveTaking_\\d+_Trials_(\\d+)\n"
     ]
    },
    {
     "data": {
      "text/plain": [
       "12"
      ]
     },
     "execution_count": 62,
     "metadata": {},
     "output_type": "execute_result"
    }
   ],
   "source": [
    "findMaximumTrial(PATTERN_PATH_INTEGRATION, csv_header)\n",
    "findMaximumTrial(PATTERN_POINTING_JUDGEMENT, csv_header)\n",
    "findMaximumTrial(PATTERN_POINTING_TASK, csv_header)\n",
    "findMaximumTrial(PATTERN_PERSPECTIVE_TAKING, csv_header)"
   ]
  }
 ],
 "metadata": {
  "kernelspec": {
   "display_name": "Python 3",
   "language": "python",
   "name": "python3"
  },
  "language_info": {
   "codemirror_mode": {
    "name": "ipython",
    "version": 3
   },
   "file_extension": ".py",
   "mimetype": "text/x-python",
   "name": "python",
   "nbconvert_exporter": "python",
   "pygments_lexer": "ipython3",
   "version": "3.12.4"
  }
 },
 "nbformat": 4,
 "nbformat_minor": 2
}
